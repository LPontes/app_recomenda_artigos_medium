{
 "cells": [
  {
   "cell_type": "code",
   "execution_count": 2,
   "metadata": {},
   "outputs": [],
   "source": [
    "# https://hackernoon.com/how-to-scrape-a-medium-publication-a-python-tutorial-for-beginners-o8u3t69\n",
    "# https://github.com/otavio-s-s/data_science/blob/master/mediumScraper/mediumScraper.py\n",
    "import pandas as pd\n",
    "from bs4 import BeautifulSoup\n",
    "import requests\n",
    "from unidecode import unidecode"
   ]
  },
  {
   "cell_type": "code",
   "execution_count": 12,
   "metadata": {},
   "outputs": [],
   "source": [
    "# Import this\n",
    "import numpy as np\n",
    "from time import sleep\n",
    "\n",
    "# Put several of this line in different places around the code\n",
    "sleep(np.random.randint(1, 15))"
   ]
  },
  {
   "cell_type": "code",
   "execution_count": 13,
   "metadata": {},
   "outputs": [],
   "source": [
    "stories_data = []\n"
   ]
  },
  {
   "cell_type": "code",
   "execution_count": 14,
   "metadata": {},
   "outputs": [],
   "source": [
    "import datetime"
   ]
  },
  {
   "cell_type": "code",
   "execution_count": 10,
   "metadata": {},
   "outputs": [
    {
     "output_type": "execute_result",
     "data": {
      "text/plain": [
       "datetime.date(2021, 2, 22)"
      ]
     },
     "metadata": {},
     "execution_count": 10
    }
   ],
   "source": [
    "datetime.date.today() - datetime.timedelta(days = 1)"
   ]
  },
  {
   "cell_type": "code",
   "execution_count": 6,
   "metadata": {
    "tags": [
     "outputPrepend"
    ]
   },
   "outputs": [
    {
     "output_type": "stream",
     "name": "stdout",
     "text": [
      "y Bites 💊 Issue #16\n",
      "          data-science Data Science Loves “Frenemies”\n",
      "          data-science Kibana Do It Yourself can be a real temptation\n",
      "          data-science Enterprise Intelligence Hub: Unlocking Trusted, Actionable and Prescriptive Business Insights\n",
      "          data-science Clustering Analysis: k-Means\n",
      "          data-science Introduction to Data Science and Big Data\n",
      "          data-science Data Science For Beginners\n",
      "          data-science 护照，驾驶执照，身份证，签证，文凭和出生证明\n",
      "          data-science What’s Better? Anaconda or Python Virtualenv\n",
      "          data-science What are the roles in the world of data?\n",
      "          data-science R Important Command For Beginners\n",
      "          data-science La voiture autonome, entre innovation technologique et casse-tête juridique\n",
      "          data-science Simply Explained Data Science Concepts:\n",
      "          data-science -\n",
      "          data-science Application of Data Science at Facebook\n",
      "          data-science -\n",
      "          data-science -\n",
      "          data-science Top Career Opportunities in Data science in 2020\n",
      "          data-science 护照，驾驶执照，身份证，签证，文凭和出生证明\n",
      "    171 stories scraped on 09/11/2020.\n",
      "     mes 12\n",
      "          data-science The Most Beautiful Equation in the World\n",
      "          data-science Classification, regression, and prediction — what’s the difference?\n",
      "          data-science Building and Deploying a Real-Time Stream Processing ETL Engine with Kafka and…\n",
      "          data-science There is no classification — here’s why\n",
      "          data-science 3 Analytics Tools and Skills You Can Start Learning Now\n",
      "          data-science How NOT to learn Machine Learning\n",
      "          data-science Top 13 Youtube Channels to Learn Python\n",
      "          data-science How to Make Stunning Interactive Maps with Python and Folium in Minutes\n",
      "          data-science Using Python’s Garbage Collector with Pandas DataFrames: Higher Efficiency and Performance for Larger Datasets\n",
      "          data-science Time Series Similarity Using Dynamic Time Warping -Explained\n",
      "          data-science The inspiring journey of the ‘Beluga’ of Kaggle World 🐋\n",
      "          data-science All The AWS re:Invent 2020 Machine Learning Releases And Why They Matter\n",
      "          data-science How LinkedIn, Uber, Lyft, Airbnb and Netflix are Solving Data Management and Discovery for Machine Learning Solutions\n",
      "          data-science SQL in Python\n",
      "          data-science Understanding The Binary Search Algorithm In Python\n",
      "          data-science What is Gini Impurity? How is it used to construct decision trees?\n",
      "          data-science Interpretation of Odds Ratio and Fisher’s Exact Test\n",
      "          data-science The Stratified Cox Proportional Hazards Regression Model\n",
      "          data-science The Top 3 Machine Learning Libraries\n",
      "          data-science What I’ve learnt building a Machine Learning project for a medium-sized enterprise\n",
      "          data-science How To Read The Internet\n",
      "          data-science From Academic to Data Scientist in Under a Year: Part I\n",
      "          data-science NVTabular: All-in on Dask\n",
      "          data-science Clustering: concepts, algorithms and applications\n",
      "          data-science 3 Simple Ways For Web Scraping Without Getting Blocked\n",
      "          data-science Introduction to Go for Python Programmers\n",
      "          data-science Interesting AI/ML Articles On Medium This Week (Dec 12)\n",
      "          data-science Time series analytics with BigQuery part 2\n",
      "          data-science The Impacts of COVID-19 on the Achievement Gap\n",
      "          data-science Using PyFlux To Predict Temperature Data\n",
      "          data-science Plotting Thematic Maps using Shapefiles in Julia\n",
      "          data-science If Marie Kondo did modeling in R\n",
      "          data-science Spotify Wrapped 2.0\n",
      "          data-science Machine Learning with Python APIs and Power BI\n",
      "          data-science Machine Learning with Low Code\n",
      "          data-science How Paper Filters Improve Espresso: Flow Rate\n",
      "          data-science Visualizing the COVID-19 Surge\n",
      "          data-science This 3 Step Approach Can Transform Your Data Science Journey\n",
      "          data-science Using Python and Spark to research the Climate Change, Part 2\n",
      "          data-science How to Install Programs With a Graphical User Interface in WSL2\n",
      "          data-science Lean Backward Induction — A Pattern for Exploratory Data Analysis\n",
      "          data-science Predictive Maintenance within the Internet of Things\n",
      "          data-science How Important is the K in KNN Algorithm\n",
      "          data-science I Scraped Every Existing Magic: The Gathering Card\n",
      "          data-science Building a social app for positive engagement\n",
      "          data-science A Beginner’s Guide to Entity Extraction\n",
      "          data-science Membandingkan Model ML dengan Low Code\n",
      "          data-science Análise de Redes: o Brasil no comércio Internacional (2020)\n",
      "          data-science Association Rule Mining in R\n",
      "          data-science Exploring hidden data in Apple’s earnings call with text mining techniques\n",
      "          data-science Missing data imputation in Machine Learning pipelines\n",
      "          data-science Keeping up with data — Week 50 reading list\n",
      "          data-science Identifying Anomalies in Commercial Energy Consumption\n",
      "          data-science Probability Sampling with R\n",
      "          data-science As 9 lições mais importantes que eu aprendi após criar um projeto de detecção de fraude\n",
      "          data-science Python Pandas Quick Reference\n",
      "          data-science Feature Handling\n",
      "          data-science Automating the Christmas Bird Count\n",
      "          data-science Deep Dive into TensorBoard: Tutorial With Examples\n",
      "          data-science Interactive data visualization using Plotly and Cufflinks\n",
      "          data-science Car Image Recognition with Convolutional Neural Network Applications\n",
      "          data-science Active Hours 8:00 AM to 2:00 AM\n",
      "          data-science Migration to Cloud and Legacy Systems: Challenges and Opportunities\n",
      "          data-science What we have learned from talking with 100+ data scientists\n",
      "          data-science PyDMD: an easy tool for dynamical systems forecasting\n",
      "          data-science A problem so easy yet so difficult\n",
      "          data-science Do You Need Any Degree in Machine Learning?\n",
      "          data-science How Machine Learning Can be used in Arts, Science, and Commerce?\n",
      "          data-science Investing in Artificial Intelligence\n",
      "          data-science Weight Initialization Techniques\n",
      "          data-science Demystifying Spark’s Stream-Stream OUTER Join\n",
      "          data-science Getting Sentimental\n",
      "          data-science Deep intuition and things behind the ROC Curve and Area Under ROC Curve(AUC)\n",
      "          data-science Building Data Lake on AWS — Data Insights\n",
      "          data-science Best YouTube Channels for Machine Learning, Data Science, and Artificial Intelligence\n",
      "          data-science Hyperautomation: The Key to an Agile Business in 2021 and Beyond\n",
      "          data-science The Tower of Babel in Data Science: Why We’re Out of “Control”\n",
      "          data-science Best New Data Visualizations in Overview — DataViz Weekly\n",
      "          data-science Missing data in Time Series\n",
      "          data-science Что такое Mirror Maker или как устроено зеркальное копирование в кластерах Kafka\n",
      "          data-science Relational Database Review 12 | Final Review\n",
      "          data-science t\n",
      "          data-science Natural Language Processing\n",
      "          data-science My Journey — Part 1 of_?\n",
      "          data-science Sky Map\n",
      "          data-science Modern Generation Languages for Data Analytics : Roadmap to Data Scientists\n",
      "          data-science Data Lakes vs. Data Warehouse: Definition & Differences\n",
      "          data-science Interleaving a Human/ Machine learning Technique\n",
      "          data-science Daily Newsletter — 11th December 2020\n",
      "          data-science Matrix Multiplication\n",
      "          data-science This Will Make You Airbnb in Boston Efficiently\n",
      "          data-science MACHINE LEARNING: A BEAUTY TO BEHOLD\n",
      "          data-science Students success — does studying stop you straying from the path of victory?\n",
      "          data-science What are Managers Looking for in Your Home Assignment\n",
      "          data-science K-NN Algorithm explained with a simple example.\n",
      "          data-science Artificial Intelligence: Week #50 | 2020\n",
      "          data-science Reducing Customer Churn in Data Science Fashion\n",
      "          data-science มารู้จักกับ Machine Learning Pipeline ในฟีเจอร์ Explore | LINE Dev Day 2020\n",
      "          data-science Ponder: A Quotes Bot for Crisis\n",
      "          data-science Artificial Lift Selection Using Machine Learning\n",
      "          data-science How To Send Email With Python\n",
      "          data-science Data Science Trends We Will Frequently Encounter in 2021\n",
      "          data-science Google Has Finally Convinced Me to Create My Own Cloud\n",
      "          data-science Finding the black sheep with Machine Learning.\n",
      "          data-science Optimiser ses publicités avec le Reinforcement Learning | Jedha Bootcamp\n",
      "          data-science Data Analyst Career Track Challenge | Data Visualization with Python Matplotlib for Beginner — Part 1\n",
      "          data-science Machine Learning for Data Analysis\n",
      "          data-science What stops businesses democratising data?\n",
      "          data-science Data security and Privacy\n",
      "          data-science Diabetes analysis based on ROC Curve for Binary class\n",
      "          data-science 2020, année de la révolution de la traduction automatisée\n",
      "          data-science Pandas Cheet Seet\n",
      "          data-science Kamu at Data+AI Summit 2020\n",
      "          data-science Programme Fullstack : quelle insertion professionnelle ? | Jedha Bootcamp\n",
      "          data-science Data speaks with the continuum of understanding\n",
      "          data-science -\n",
      "          data-science Toronto Neighborhoods with Outdoor Fitness Facilities\n",
      "          data-science Linear Algebra in Data Science\n",
      "          data-science Jedha : de bootcamp à école de la Data | Jedha Bootcamp\n",
      "          data-science Reasons for an Update to Flutter Testing\n",
      "          data-science How I Got 4 Data Science Offers and Doubled my Income 2 Months after being Laid Off\n",
      "          data-science Sharing the Cost of Opportunity\n",
      "          data-science MENGOLAH BIG DATA UNTUK KEPERLUAN BISNIS\n",
      "          data-science -\n",
      "          data-science Data Science Certification in Singapore\n",
      "          data-science Imagerie & traitement de texte : les applications du Deep Learning | Jedha Bootcamp\n",
      "          data-science Что такое Mirror Maker или как устроено зеркальное копирование в кластерах Kafka\n",
      "          data-science How I Approach the Toughest Decisions\n",
      "          data-science “Искуственный интеллект создают знания, а знания — от данных”\n",
      "          data-science How I Approach the Decision Hardest Enough\n",
      "          data-science Qu’est-ce que la programmation orientée objet ? | Jedha Bootcamp\n",
      "          data-science Apprendre la Data sur JULIE by Jedha | Votre plateforme Data\n",
      "          data-science Why be Interoperable?\n",
      "          data-science Data Culture, Simplified!\n",
      "          data-science Why should you prefer Coursera over Udemy for certifications ?\n",
      "          data-science As per the current trends in the industry, Data science is an appealing and highly employable sector.\n",
      "          data-science Les projets Data : savoir pourquoi on apprend ce que l’on apprend | Jedha Bootcamp\n",
      "          data-science Nouveaux programmes, plateforme JULIE & suivi carrière : on vous explique tout ! | Jedha Bootcamp\n",
      "          data-science Prédire les performances en force athlétique | Jedha Bootcamp\n",
      "     mes 12\n",
      "          data-science A Complete 52 Week Curriculum to Become a Data Scientist in 2021\n",
      "          data-science Poor Oversight Leads To A State Wasting $365k On A Broken Model That Archaeologists Are Told To Use\n",
      "          data-science How to make your Pandas operation 100x faster\n",
      "          data-science Many Python Programmers Cannot Solve This Puzzle\n",
      "          data-science Deep Learning: GoogLeNet Explained\n",
      "          data-science Learning Graph DB in one night — Neo4j\n",
      "          data-science Advanced Price Action Techniques to Detect Market Reactions.\n",
      "          data-science Top 8 Most Common Questions I Get Asked as a Data Scientist\n",
      "          data-science How Microsoft Uses Transfer Learning to Train Autonomous Drones\n",
      "          data-science Practical Machine Learning with Scikit-Learn\n",
      "          data-science How to Scrape Tweets by Location in Python using snscrape\n",
      "          data-science Build a Natural Language Classifier With Bert and Tensorflow\n",
      "          data-science Causal Inference in Data Science: Structure of M-Bias with Confounding Adjustment\n",
      "          data-science Explaining Stationarity and its Impact on Forecasting Accuracy\n",
      "          data-science How To Find Seasonality Using Python\n",
      "          data-science Data Preprocessing with Python Pandas — Part 5 Binning\n",
      "          data-science The Importance of Writing as a Data Scientist\n",
      "          data-science MLOps w/ Dataiku DSS on Kubernetes\n",
      "          data-science Confusion Matrix — Clearly Explained\n",
      "          data-science Uncertainty Visualization Made Easy With Hypothetical Outcome Plots\n",
      "          data-science [Holidays Alert]: Top 5 free Data Science, AI & ML courses You can finish\n",
      "          data-science A Guide for Your Very First Machine Learning Project Part 2\n",
      "          data-science How to Finally Ditch Spreadsheets in Favor of Notebooks\n",
      "          data-science Visualizing 3D Seismic Volumes Made Easy with Python and Mayavi\n",
      "          data-science Top 8 Python Tools For App Development\n",
      "          data-science AB Testing Fundamentals For Every Data Scientist\n",
      "          data-science 資料科學家的面試指南\n",
      "          data-science How to assess your code performance in Python\n",
      "          data-science Active Learning for Semantic Segmentation\n",
      "          data-science Learning From My First Solo AWS Jam Experience\n",
      "          data-science 3 Tips on How to Code Like Mark Zuckerberg - Secret from superfast programmers.\n",
      "          data-science Retour sur la saison 8 de Data For Good et l’année 2020 🎅\n",
      "          data-science Building a Useful Dataset for Spam Detection\n",
      "          data-science NVIDIA Makes Training GANs Easier with Fewer Images\n",
      "          data-science Using Permutation Tests to proof the Climate Change\n",
      "          data-science Data Science in 2020: Technology\n",
      "          data-science Precautions in Using Tech for Public Health Part I: Technology is Not Neutral\n",
      "          data-science Decision Trees on mark! || Need — Why — When || Quick Hands-On || Conclude\n",
      "          data-science How to Become a Certified TensorFlow Developer?\n",
      "          data-science My Journey to Grad School at Stanford\n",
      "          data-science Key AgriTech Trends to Watch in 2021\n",
      "          data-science MIT 6.00.1x/2x Review : A Data Scientist’s Point of View\n",
      "          data-science Holiday Supply Chain Optimization for Us Mere Mortals\n",
      "          data-science How To Use Google AI Platform Notebooks For Your Data Science Team\n",
      "          data-science Crime and Punishment in the Inner City\n",
      "          data-science Latest picks: Erasure Coding For The Masses\n",
      "          data-science AI registers: finally, a tool to increase transparency in AI/ML\n",
      "          data-science 初闖加拿大職場： ecobee智能家庭資料科學實習\n",
      "          data-science [Chapter-2] Data Preparation for End-to-End Machine Learning Project — part-3🧙🏻‍♂️\n",
      "          data-science Spelling Correction with Machine Learning\n",
      "          data-science Learning Data Science: Day 9 — Linear Regression on Boston Housing Dataset\n",
      "          data-science ESG risk — in the eye of the beholder\n",
      "          data-science What is Data Science ?\n",
      "          data-science Most Interesting Facts About FIFA Players from a Data Scientist Perspective\n",
      "          data-science Physicians are working like Robots for Robots. But, convincingly, shouldn’t it be the other way around?\n",
      "          data-science How to Analyze Uncertainty? Interesting salary trends on Stack Overflows Annual Survey 2020\n",
      "          data-science Less is More — Misinformation and Democracy\n",
      "          data-science Confusion Matrix, Precision , Recall and F1-Score\n",
      "          data-science Primal Data Advent Calendar #9: Using Google Sheets for labeling “text diffs”\n",
      "          data-science Need an eye-catching infographic chart but stuck with Excel? No problems!\n",
      "          data-science Fine-Tuning Language Models for Sentiment Analysis\n",
      "          data-science はじめに\n",
      "          data-science Why Small Data is a Big Deal\n",
      "          data-science Do roads in the EU become safer?\n",
      "          data-science A Comprehensive Roadmap for An Aspiring Data Scientist in 2020\n",
      "          data-science 7 Python Programming Articles You Enjoyed in 2020\n",
      "          data-science Neural Networks Vs Simple Gradient descent: The Age old Brachistochrone Problem.\n",
      "          data-science Why Did I Choose Data Science?\n",
      "          data-science Characterizing outperformed companies 1-Month Post-COVID19 Vaccine Success\n",
      "          data-science Data Science in Healthcare\n",
      "          data-science Sentiment Analysis with Logistic Regression (Part 2)\n",
      "          data-science A Tutorial on Natural Language Processing (NLP)\n",
      "          data-science Veri Biliminde Olasılığa Giriş ve Olasılık Dağılımları\n",
      "          data-science Understanding— Logistic Regression within 5min 🐱‍🏍\n",
      "          data-science Role of Data science in combating covid-19\n",
      "          data-science Q#13: Students in a class\n",
      "          data-science What’s an Algorithm, Anyway?\n",
      "          data-science Demystifying Ensemble Learning: An informal approach\n",
      "          data-science How to Calculate Variability measures (variance SD etc) in Statistics and Python\n",
      "          data-science Basics of Deep Learning explained in 3 minutes\n",
      "          data-science D4S Sunday Briefing #82\n",
      "          data-science Predicting Stock Market\n",
      "          data-science Common Ways of Manipulating Datasets in Python\n",
      "          data-science Daily Newsletter — 23rd December 2020\n",
      "          data-science Aki warsono\n",
      "          data-science What sells best in Seattle Airbnb?\n",
      "          data-science [ML UTD 28] Machine Learning Up-To-Date — Life With Data\n",
      "          data-science Rich Diffs for Jupyter Commits & Pull Requests\n",
      "          data-science AI Bias Is Not Always Bad in Marketing. Here Is Why\n",
      "          data-science Visualisasi Data Covid 19 dengan Google Data Studio\n",
      "          data-science What data can say about Brazil Amazon Deforestation\n",
      "          data-science How Do YOU Become a AirBnB Host?\n",
      "          data-science Alternative Data and API Jungle\n",
      "          data-science Christmas Carol Fun with Anvil Web App Framework\n",
      "          data-science Is Python Really a Bottleneck?\n",
      "          data-science Shiny Object Syndrome\n",
      "          data-science 3 Trending Technologies You Need to Learn in 2021\n",
      "          data-science 5 Papers on Face Recognition Every Data Scientist Should Read\n",
      "          data-science -\n",
      "          data-science Data Viz de Natal\n",
      "          data-science Le jumeau numérique sera peut-être la technologie des années 2020\n",
      "          data-science -\n",
      "          data-science Putting the “day” in data science\n",
      "          data-science Local News USA. Crowded fields for Unit 5, District 87 school board races\n",
      "          data-science How much is my property worth?\n",
      "          data-science What is the Future for R- Programming?\n",
      "          data-science Veri Bilimciler Sihirbaz Değildir\n",
      "          data-science Power BI’da Görsel Gruplandırma\n",
      "          data-science 3 Must Haves for an “Applied” Data Scientist Champion\n",
      "          data-science Understanding the Basics of Data Science (when you are not a data scientist but work with or manage data scientists)…\n",
      "          data-science How to Prepare Datasets for Analysis\n",
      "          data-science Music and Artificial Intelligence\n",
      "          data-science Road Map to be the best Data Scientist and get paid the best in the market!\n",
      "          data-science Deep Learning and ANN\n",
      "          data-science What is a model?\n",
      "          data-science U.S. Reaches Deal With Pfizer For 100 Million More Vaccine Doses\n",
      "          data-science What’s the best predicter of forwards value?\n",
      "          data-science Why Data Science is a future job?\n",
      "          data-science Startup, day-job, and personal growth for a Data Analyst — 2020 Summary\n",
      "    122 stories scraped on 23/12/2020.\n"
     ]
    }
   ],
   "source": [
    "\n",
    "# define the themes do you whant to search about\n",
    "for tag in ['python' , 'data-science']:\n",
    "    print('Buscando resultados para:', tag)\n",
    "    sleep(np.random.randint(1, 15))\n",
    "    for year in ['2020']:\n",
    "        for month in range(2, 13):\n",
    "            for day in np.random.randint(1,28,np.random.randint(1,3)):   \n",
    "                print('     mes',month)\n",
    "                sleep(np.random.randint(1, 15))    \n",
    "                date = f'{str(day).zfill(2)}/{str(month).zfill(2)}/{year}'\n",
    "                url = f'https://medium.com/tag/{tag}/archive/{year}/{str(month).zfill(2)}/{str(day).zfill(2)}'\n",
    "                page = requests.get(url)\n",
    "                soup = BeautifulSoup(page.text, 'html.parser')\n",
    "\n",
    "                # stories are all articles found for that theme on the month\n",
    "                stories = soup.find_all('div', class_='streamItem streamItem--postPreview js-streamItem')\n",
    "\n",
    "                for story in stories:\n",
    "                    sleep(np.random.randint(1, 5))\n",
    "                    each_story = []\n",
    "                    author_box = story.find('div', class_='postMetaInline u-floatLeft u-sm-maxWidthFullWidth')\n",
    "                    author_url = author_box.find('a')['href']\n",
    "                        \n",
    "                    try:\n",
    "                        reading_time = author_box.find('span', class_='readingTime')['title']\n",
    "                    except:\n",
    "                        continue\n",
    "\n",
    "                    title = story.find('h3').text if story.find('h3') else '-'\n",
    "                    print('         ',tag, title)\n",
    "                    subtitle = story.find('h4').text if story.find('h4') else '-'\n",
    "\n",
    "                    if story.find('button', class_='button button--chromeless u-baseColor--buttonNormal js-multirecommendCountButton u-disablePointerEvents'):\n",
    "                        claps = story.find('button', class_='button button--chromeless u-baseColor--buttonNormal js-multirecommendCountButton u-disablePointerEvents').text\n",
    "                        \n",
    "                    else:\n",
    "                        claps = 0\n",
    "\n",
    "                    if story.find('a', class_='button button--chromeless u-baseColor--buttonNormal'):\n",
    "                        responses = story.find('a', class_='button button--chromeless u-baseColor--buttonNormal').text\n",
    "                        \n",
    "                    else:\n",
    "                        responses = '0 responses'\n",
    "\n",
    "                    reading_time = reading_time.split()[0]\n",
    "                    responses = responses.split()[0]\n",
    "\n",
    "                    each_story.append(date)\n",
    "                    each_story.append(title)\n",
    "                    each_story.append(subtitle)\n",
    "                    each_story.append(claps)\n",
    "                    each_story.append(responses)\n",
    "                    each_story.append(author_url)\n",
    "                    #each_story.append(story_url)\n",
    "                    each_story.append(reading_time)\n",
    "\n",
    "                    stories_data.append(each_story)\n",
    "            print(f'    {len(stories)} stories scraped on {date}.')"
   ]
  },
  {
   "cell_type": "code",
   "execution_count": 7,
   "metadata": {},
   "outputs": [],
   "source": [
    "columns = ['date', 'title', 'subtitle', 'claps', 'responses', \n",
    "           'author_url',  'reading_time']\n",
    "\n",
    "df = pd.DataFrame(stories_data, columns=columns)"
   ]
  },
  {
   "source": [
    "df.to_csv('scrap_medium.csv', index = False)"
   ],
   "cell_type": "code",
   "metadata": {},
   "execution_count": null,
   "outputs": []
  },
  {
   "cell_type": "code",
   "execution_count": 8,
   "metadata": {},
   "outputs": [],
   "source": []
  },
  {
   "cell_type": "code",
   "execution_count": 6,
   "metadata": {},
   "outputs": [],
   "source": [
    "d = pd.read_csv('artigos_medium_classificados.csv', sep = ',')"
   ]
  },
  {
   "cell_type": "code",
   "execution_count": 7,
   "metadata": {},
   "outputs": [
    {
     "output_type": "execute_result",
     "data": {
      "text/plain": [
       "             date  classificacao  \\\n",
       "0      26/01/2020            0.0   \n",
       "1      26/01/2020            1.0   \n",
       "2      26/01/2020            0.0   \n",
       "3      26/01/2020            1.0   \n",
       "4      26/01/2020            0.0   \n",
       "...           ...            ...   \n",
       "13836  23/12/2020            NaN   \n",
       "13837  23/12/2020            NaN   \n",
       "13838  23/12/2020            NaN   \n",
       "13839  23/12/2020            NaN   \n",
       "13840  23/12/2020            NaN   \n",
       "\n",
       "                                                   title  \\\n",
       "0                 Implementing an Autoencoder in PyTorch   \n",
       "1                       Top 20 Podcasts for Data Science   \n",
       "2            Modelling tabular data with Google s TabNet   \n",
       "3      Fraud detection  the problem  solutions and tools   \n",
       "4                            Linear Regression Explained   \n",
       "...                                                  ...   \n",
       "13836                                   What is a model    \n",
       "13837  U S  Reaches Deal With Pfizer For 100 Million ...   \n",
       "13838       What s the best predicter of forwards value    \n",
       "13839                  Why Data Science is a future job    \n",
       "13840  Startup  day job  and personal growth for a Da...   \n",
       "\n",
       "                                                subtitle claps  responses  \\\n",
       "0       Building an autoencoder model for reconstruction   286        1.0   \n",
       "1      A list of the best data science podcasts for d...   349        4.0   \n",
       "2      Released in 2019, Google Research’s TabNet is ...   386        3.0   \n",
       "3      How machine learning is changing the fraud det...   125        1.0   \n",
       "4             [ — Linear Regression explained simply — ]    49        0.0   \n",
       "...                                                  ...   ...        ...   \n",
       "13836                                                  -     0        0.0   \n",
       "13837                                                  -     0        0.0   \n",
       "13838                                                  -     0        0.0   \n",
       "13839                                                  -     0        0.0   \n",
       "13840                                                  -     1        0.0   \n",
       "\n",
       "                                          author_url  reading_time  \n",
       "0                       https://medium.com/@afagarap           5.0  \n",
       "1      https://towardsdatascience.com/@benthecoder07          11.0  \n",
       "2         https://towardsdatascience.com/@mikaelhuss           8.0  \n",
       "3         https://towardsdatascience.com/@mab-datasc           5.0  \n",
       "4       https://towardsdatascience.com/@jaimezornoza           6.0  \n",
       "...                                              ...           ...  \n",
       "13836              https://medium.com/@bryangwhiting           NaN  \n",
       "13837               https://medium.com/@iismandala12           NaN  \n",
       "13838          https://medium.com/@darrensmith-16893           NaN  \n",
       "13839                https://medium.com/@hirevacancy           NaN  \n",
       "13840                https://medium.com/@jzcheng1122           NaN  \n",
       "\n",
       "[13841 rows x 8 columns]"
      ],
      "text/html": "<div>\n<style scoped>\n    .dataframe tbody tr th:only-of-type {\n        vertical-align: middle;\n    }\n\n    .dataframe tbody tr th {\n        vertical-align: top;\n    }\n\n    .dataframe thead th {\n        text-align: right;\n    }\n</style>\n<table border=\"1\" class=\"dataframe\">\n  <thead>\n    <tr style=\"text-align: right;\">\n      <th></th>\n      <th>date</th>\n      <th>classificacao</th>\n      <th>title</th>\n      <th>subtitle</th>\n      <th>claps</th>\n      <th>responses</th>\n      <th>author_url</th>\n      <th>reading_time</th>\n    </tr>\n  </thead>\n  <tbody>\n    <tr>\n      <th>0</th>\n      <td>26/01/2020</td>\n      <td>0.0</td>\n      <td>Implementing an Autoencoder in PyTorch</td>\n      <td>Building an autoencoder model for reconstruction</td>\n      <td>286</td>\n      <td>1.0</td>\n      <td>https://medium.com/@afagarap</td>\n      <td>5.0</td>\n    </tr>\n    <tr>\n      <th>1</th>\n      <td>26/01/2020</td>\n      <td>1.0</td>\n      <td>Top 20 Podcasts for Data Science</td>\n      <td>A list of the best data science podcasts for d...</td>\n      <td>349</td>\n      <td>4.0</td>\n      <td>https://towardsdatascience.com/@benthecoder07</td>\n      <td>11.0</td>\n    </tr>\n    <tr>\n      <th>2</th>\n      <td>26/01/2020</td>\n      <td>0.0</td>\n      <td>Modelling tabular data with Google s TabNet</td>\n      <td>Released in 2019, Google Research’s TabNet is ...</td>\n      <td>386</td>\n      <td>3.0</td>\n      <td>https://towardsdatascience.com/@mikaelhuss</td>\n      <td>8.0</td>\n    </tr>\n    <tr>\n      <th>3</th>\n      <td>26/01/2020</td>\n      <td>1.0</td>\n      <td>Fraud detection  the problem  solutions and tools</td>\n      <td>How machine learning is changing the fraud det...</td>\n      <td>125</td>\n      <td>1.0</td>\n      <td>https://towardsdatascience.com/@mab-datasc</td>\n      <td>5.0</td>\n    </tr>\n    <tr>\n      <th>4</th>\n      <td>26/01/2020</td>\n      <td>0.0</td>\n      <td>Linear Regression Explained</td>\n      <td>[ — Linear Regression explained simply — ]</td>\n      <td>49</td>\n      <td>0.0</td>\n      <td>https://towardsdatascience.com/@jaimezornoza</td>\n      <td>6.0</td>\n    </tr>\n    <tr>\n      <th>...</th>\n      <td>...</td>\n      <td>...</td>\n      <td>...</td>\n      <td>...</td>\n      <td>...</td>\n      <td>...</td>\n      <td>...</td>\n      <td>...</td>\n    </tr>\n    <tr>\n      <th>13836</th>\n      <td>23/12/2020</td>\n      <td>NaN</td>\n      <td>What is a model</td>\n      <td>-</td>\n      <td>0</td>\n      <td>0.0</td>\n      <td>https://medium.com/@bryangwhiting</td>\n      <td>NaN</td>\n    </tr>\n    <tr>\n      <th>13837</th>\n      <td>23/12/2020</td>\n      <td>NaN</td>\n      <td>U S  Reaches Deal With Pfizer For 100 Million ...</td>\n      <td>-</td>\n      <td>0</td>\n      <td>0.0</td>\n      <td>https://medium.com/@iismandala12</td>\n      <td>NaN</td>\n    </tr>\n    <tr>\n      <th>13838</th>\n      <td>23/12/2020</td>\n      <td>NaN</td>\n      <td>What s the best predicter of forwards value</td>\n      <td>-</td>\n      <td>0</td>\n      <td>0.0</td>\n      <td>https://medium.com/@darrensmith-16893</td>\n      <td>NaN</td>\n    </tr>\n    <tr>\n      <th>13839</th>\n      <td>23/12/2020</td>\n      <td>NaN</td>\n      <td>Why Data Science is a future job</td>\n      <td>-</td>\n      <td>0</td>\n      <td>0.0</td>\n      <td>https://medium.com/@hirevacancy</td>\n      <td>NaN</td>\n    </tr>\n    <tr>\n      <th>13840</th>\n      <td>23/12/2020</td>\n      <td>NaN</td>\n      <td>Startup  day job  and personal growth for a Da...</td>\n      <td>-</td>\n      <td>1</td>\n      <td>0.0</td>\n      <td>https://medium.com/@jzcheng1122</td>\n      <td>NaN</td>\n    </tr>\n  </tbody>\n</table>\n<p>13841 rows × 8 columns</p>\n</div>"
     },
     "metadata": {},
     "execution_count": 7
    }
   ],
   "source": [
    "d"
   ]
  },
  {
   "cell_type": "code",
   "execution_count": 66,
   "metadata": {},
   "outputs": [
    {
     "output_type": "execute_result",
     "data": {
      "text/plain": [
       "0"
      ]
     },
     "metadata": {},
     "execution_count": 66
    }
   ],
   "source": [
    "d.title.duplicated().sum()"
   ]
  },
  {
   "cell_type": "code",
   "execution_count": 19,
   "metadata": {},
   "outputs": [],
   "source": [
    "d.drop_duplicates('title', inplace=True)"
   ]
  },
  {
   "source": [
    "d['title'] = d.title.apply(unidecode)"
   ],
   "cell_type": "code",
   "metadata": {},
   "execution_count": 59,
   "outputs": []
  },
  {
   "source": [
    "d['title'] = d.title.str.replace('[^A-Za-z0-9 ]', ' ')"
   ],
   "cell_type": "code",
   "metadata": {},
   "execution_count": 69,
   "outputs": []
  },
  {
   "cell_type": "code",
   "execution_count": 70,
   "metadata": {},
   "outputs": [
    {
     "output_type": "execute_result",
     "data": {
      "text/plain": [
       "Empty DataFrame\n",
       "Columns: [date, classificacao, title, subtitle, claps, responses, author_url, reading_time]\n",
       "Index: []"
      ],
      "text/html": "<div>\n<style scoped>\n    .dataframe tbody tr th:only-of-type {\n        vertical-align: middle;\n    }\n\n    .dataframe tbody tr th {\n        vertical-align: top;\n    }\n\n    .dataframe thead th {\n        text-align: right;\n    }\n</style>\n<table border=\"1\" class=\"dataframe\">\n  <thead>\n    <tr style=\"text-align: right;\">\n      <th></th>\n      <th>date</th>\n      <th>classificacao</th>\n      <th>title</th>\n      <th>subtitle</th>\n      <th>claps</th>\n      <th>responses</th>\n      <th>author_url</th>\n      <th>reading_time</th>\n    </tr>\n  </thead>\n  <tbody>\n  </tbody>\n</table>\n</div>"
     },
     "metadata": {},
     "execution_count": 70
    }
   ],
   "source": [
    "d[d.title.str.contains('[^A-Za-z0-9 ]')]"
   ]
  },
  {
   "cell_type": "code",
   "execution_count": 4,
   "metadata": {},
   "outputs": [
    {
     "output_type": "error",
     "ename": "AttributeError",
     "evalue": "'DataFrame' object has no attribute 'title'",
     "traceback": [
      "\u001b[1;31m---------------------------------------------------------------------------\u001b[0m",
      "\u001b[1;31mAttributeError\u001b[0m                            Traceback (most recent call last)",
      "\u001b[1;32m<ipython-input-4-384bc3550411>\u001b[0m in \u001b[0;36m<module>\u001b[1;34m\u001b[0m\n\u001b[1;32m----> 1\u001b[1;33m \u001b[0md\u001b[0m\u001b[1;33m.\u001b[0m\u001b[0mtitle\u001b[0m\u001b[1;33m\u001b[0m\u001b[1;33m\u001b[0m\u001b[0m\n\u001b[0m",
      "\u001b[1;32m~\\Anaconda3\\lib\\site-packages\\pandas\\core\\generic.py\u001b[0m in \u001b[0;36m__getattr__\u001b[1;34m(self, name)\u001b[0m\n\u001b[0;32m   5272\u001b[0m             \u001b[1;32mif\u001b[0m \u001b[0mself\u001b[0m\u001b[1;33m.\u001b[0m\u001b[0m_info_axis\u001b[0m\u001b[1;33m.\u001b[0m\u001b[0m_can_hold_identifiers_and_holds_name\u001b[0m\u001b[1;33m(\u001b[0m\u001b[0mname\u001b[0m\u001b[1;33m)\u001b[0m\u001b[1;33m:\u001b[0m\u001b[1;33m\u001b[0m\u001b[1;33m\u001b[0m\u001b[0m\n\u001b[0;32m   5273\u001b[0m                 \u001b[1;32mreturn\u001b[0m \u001b[0mself\u001b[0m\u001b[1;33m[\u001b[0m\u001b[0mname\u001b[0m\u001b[1;33m]\u001b[0m\u001b[1;33m\u001b[0m\u001b[1;33m\u001b[0m\u001b[0m\n\u001b[1;32m-> 5274\u001b[1;33m             \u001b[1;32mreturn\u001b[0m \u001b[0mobject\u001b[0m\u001b[1;33m.\u001b[0m\u001b[0m__getattribute__\u001b[0m\u001b[1;33m(\u001b[0m\u001b[0mself\u001b[0m\u001b[1;33m,\u001b[0m \u001b[0mname\u001b[0m\u001b[1;33m)\u001b[0m\u001b[1;33m\u001b[0m\u001b[1;33m\u001b[0m\u001b[0m\n\u001b[0m\u001b[0;32m   5275\u001b[0m \u001b[1;33m\u001b[0m\u001b[0m\n\u001b[0;32m   5276\u001b[0m     \u001b[1;32mdef\u001b[0m \u001b[0m__setattr__\u001b[0m\u001b[1;33m(\u001b[0m\u001b[0mself\u001b[0m\u001b[1;33m,\u001b[0m \u001b[0mname\u001b[0m\u001b[1;33m:\u001b[0m \u001b[0mstr\u001b[0m\u001b[1;33m,\u001b[0m \u001b[0mvalue\u001b[0m\u001b[1;33m)\u001b[0m \u001b[1;33m->\u001b[0m \u001b[1;32mNone\u001b[0m\u001b[1;33m:\u001b[0m\u001b[1;33m\u001b[0m\u001b[1;33m\u001b[0m\u001b[0m\n",
      "\u001b[1;31mAttributeError\u001b[0m: 'DataFrame' object has no attribute 'title'"
     ]
    }
   ],
   "source": [
    "d.title"
   ]
  },
  {
   "cell_type": "code",
   "execution_count": null,
   "metadata": {},
   "outputs": [],
   "source": []
  },
  {
   "cell_type": "code",
   "execution_count": 75,
   "metadata": {},
   "outputs": [],
   "source": [
    "d.to_csv('artigos_medium_classificados.csv', index = False)"
   ]
  },
  {
   "cell_type": "code",
   "execution_count": 73,
   "metadata": {},
   "outputs": [
    {
     "output_type": "execute_result",
     "data": {
      "text/plain": [
       "(13841, 8)"
      ]
     },
     "metadata": {},
     "execution_count": 73
    }
   ],
   "source": [
    "d.shape"
   ]
  }
 ],
 "metadata": {
  "kernelspec": {
   "display_name": "Python 3",
   "language": "python",
   "name": "python3"
  },
  "language_info": {
   "codemirror_mode": {
    "name": "ipython",
    "version": 3
   },
   "file_extension": ".py",
   "mimetype": "text/x-python",
   "name": "python",
   "nbconvert_exporter": "python",
   "pygments_lexer": "ipython3",
   "version": "3.7.6-final"
  }
 },
 "nbformat": 4,
 "nbformat_minor": 4
}